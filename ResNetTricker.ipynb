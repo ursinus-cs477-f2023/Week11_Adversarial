{
 "cells": [
  {
   "cell_type": "code",
   "execution_count": null,
   "id": "32f3a271",
   "metadata": {},
   "outputs": [],
   "source": [
    "import torch\n",
    "from torch import nn\n",
    "model = torch.hub.load('pytorch/vision:v0.10.0', 'resnet18', pretrained=True)\n",
    "# or any of these variants\n",
    "# model = torch.hub.load('pytorch/vision:v0.10.0', 'resnet34', pretrained=True)\n",
    "# model = torch.hub.load('pytorch/vision:v0.10.0', 'resnet50', pretrained=True)\n",
    "# model = torch.hub.load('pytorch/vision:v0.10.0', 'resnet101', pretrained=True)\n",
    "#model = torch.hub.load('pytorch/vision:v0.10.0', 'resnet152', pretrained=True)\n",
    "model.eval()"
   ]
  },
  {
   "cell_type": "code",
   "execution_count": null,
   "id": "99d7d676",
   "metadata": {},
   "outputs": [],
   "source": [
    "with open(\"imagenet_classes.txt\", \"r\") as f:\n",
    "    categories = [s.strip() for s in f.readlines()]\n",
    "\n",
    "\n",
    "from PIL import Image\n",
    "from torchvision import transforms\n",
    "input_image = Image.open(\"collegeville_bakery.jpg\")\n",
    "preprocess = transforms.Compose([\n",
    "    transforms.Resize(256),\n",
    "    transforms.CenterCrop(224),\n",
    "    transforms.ToTensor(),\n",
    "    transforms.Lambda(lambda x: x[0:3, :, :]),\n",
    "    #transforms.Normalize(mean=[0.485, 0.456, 0.406], std=[0.229, 0.224, 0.225]),\n",
    "])\n",
    "X = preprocess(input_image)\n",
    "X_orig = X.clone()"
   ]
  },
  {
   "cell_type": "code",
   "execution_count": null,
   "id": "8a87f2cd",
   "metadata": {},
   "outputs": [],
   "source": [
    "y = torch.zeros(1000)\n",
    "## TODO: Make y a 1-hot vector for what we're trying to trick\n",
    "\n",
    "# Require gradient on image\n",
    "X = X.requires_grad_()\n",
    "# Disable gradient in imagenet\n",
    "for p in model.parameters():\n",
    "    p.requires_grad_(False)\n",
    "\n",
    "loss_fn = nn.BCEWithLogitsLoss()\n",
    "\n",
    "optimizer = torch.optim.Adam([X], lr=1e-3)\n",
    "lam = 10\n",
    "n_iters = 1000\n",
    "losses = []\n",
    "sigmoid_scale = 3\n",
    "for i in range(n_iters):\n",
    "    optimizer.zero_grad()\n",
    "    mu = torch.mean(torch.flatten(X, 1, 2), dim=1)\n",
    "    XNorm = X - mu.view(3, 1, 1)\n",
    "    std = torch.std(torch.flatten(XNorm, 1, 2), dim=1)\n",
    "    std = std.view(3, 1, 1)\n",
    "    XNorm = XNorm / std\n",
    "\n",
    "    y_est = model(XNorm.unsqueeze(0)).flatten()\n",
    "    loss = loss_fn(y_est, y)\n",
    "    loss.backward()\n",
    "    optimizer.step()\n",
    "    if i%10 == 0:\n",
    "        print(loss.item())\n",
    "        probabilities = torch.softmax(y_est, 0)\n",
    "        top5_prob, top5_catid = torch.topk(probabilities, 5)\n",
    "        for i in range(top5_prob.size(0)):\n",
    "            print(categories[top5_catid[i]], top5_prob[i].item())\n",
    "        "
   ]
  },
  {
   "cell_type": "code",
   "execution_count": null,
   "id": "7c84e536",
   "metadata": {},
   "outputs": [],
   "source": [
    "print(X-X_orig)"
   ]
  },
  {
   "cell_type": "code",
   "execution_count": null,
   "id": "97cd6b05",
   "metadata": {},
   "outputs": [],
   "source": []
  }
 ],
 "metadata": {
  "kernelspec": {
   "display_name": "Python 3 (ipykernel)",
   "language": "python",
   "name": "python3"
  },
  "language_info": {
   "codemirror_mode": {
    "name": "ipython",
    "version": 3
   },
   "file_extension": ".py",
   "mimetype": "text/x-python",
   "name": "python",
   "nbconvert_exporter": "python",
   "pygments_lexer": "ipython3",
   "version": "3.11.3"
  }
 },
 "nbformat": 4,
 "nbformat_minor": 5
}
